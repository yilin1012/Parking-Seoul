{
 "cells": [
  {
   "cell_type": "markdown",
   "id": "ddeab57a",
   "metadata": {},
   "source": [
    "### 서울시 공영주차장 안내 정보 CSV 파일 "
   ]
  },
  {
   "cell_type": "code",
   "execution_count": 49,
   "id": "8860ff0f",
   "metadata": {},
   "outputs": [],
   "source": [
    "# 서울시 공영주차장 안내정보 csv 파일 데이터 분석을 위해 판다스 사용\n",
    "import pandas as pd\n",
    "\n",
    "data=pd.read_csv('/Users/yerim/Desktop/parkingseoul/서울시 공영주차장 안내 정보.csv', encoding='euc-kr')"
   ]
  },
  {
   "cell_type": "code",
   "execution_count": 50,
   "id": "a1359232",
   "metadata": {},
   "outputs": [
    {
     "name": "stdout",
     "output_type": "stream",
     "text": [
      "<class 'pandas.core.frame.DataFrame'>\n",
      "RangeIndex: 8000 entries, 0 to 7999\n",
      "Data columns (total 37 columns):\n",
      " #   Column             Non-Null Count  Dtype  \n",
      "---  ------             --------------  -----  \n",
      " 0   주차장코드              8000 non-null   int64  \n",
      " 1   주차장명               8000 non-null   object \n",
      " 2   주소                 8000 non-null   object \n",
      " 3   주차장 종류             8000 non-null   object \n",
      " 4   주차장 종류명            8000 non-null   object \n",
      " 5   운영구분               8000 non-null   int64  \n",
      " 6   운영구분명              8000 non-null   object \n",
      " 7   전화번호               2830 non-null   object \n",
      " 8   총 주자면              8000 non-null   int64  \n",
      " 9   유무료구분              8000 non-null   object \n",
      " 10  유무료구분명             8000 non-null   object \n",
      " 11  야간무료개방여부           8000 non-null   object \n",
      " 12  야간무료개방여부명          8000 non-null   object \n",
      " 13  평일 운영 시작시각(HHMM)   8000 non-null   int64  \n",
      " 14  평일 운영 종료시각(HHMM)   8000 non-null   int64  \n",
      " 15  주말 운영 시작시각(HHMM)   8000 non-null   int64  \n",
      " 16  주말 운영 종료시각(HHMM)   8000 non-null   int64  \n",
      " 17  공휴일 운영 시작시각(HHMM)  8000 non-null   int64  \n",
      " 18  공휴일 운영 종료시각(HHMM)  8000 non-null   int64  \n",
      " 19  최종데이터 동기화 시간       8000 non-null   object \n",
      " 20  토요일 유,무료 구분        8000 non-null   object \n",
      " 21  토요일 유,무료 구분명       8000 non-null   object \n",
      " 22  공휴일 유,무료 구분        8000 non-null   object \n",
      " 23  공휴일 유,무료 구분명       8000 non-null   object \n",
      " 24  월 정기권 금액           7481 non-null   float64\n",
      " 25  노상 주차장 관리그룹번호      7674 non-null   float64\n",
      " 26  기본 주차 요금           7981 non-null   float64\n",
      " 27  기본 주차 시간(분 단위)     7981 non-null   float64\n",
      " 28  추가 단위 요금           7738 non-null   float64\n",
      " 29  추가 단위 시간(분 단위)     7738 non-null   float64\n",
      " 30  버스 기본 주차 요금        7960 non-null   float64\n",
      " 31  버스 기본 주차 시간(분 단위)  7960 non-null   float64\n",
      " 32  버스 추가 단위 시간(분 단위)  7960 non-null   float64\n",
      " 33  버스 추가 단위 요금        7960 non-null   float64\n",
      " 34  일 최대 요금            7362 non-null   float64\n",
      " 35  주차장 위치 좌표 위도       7994 non-null   float64\n",
      " 36  주차장 위치 좌표 경도       7994 non-null   float64\n",
      "dtypes: float64(13), int64(9), object(15)\n",
      "memory usage: 2.3+ MB\n"
     ]
    },
    {
     "data": {
      "text/plain": [
       "'\\n총 14698개의 주차장\\n변수(총 39개) : 주차장코드 , 주차장명, 주소, 주차장 종류, 주차장 종류명, 운영구분, 운영구분명, 전화번호, 총 주차면, 유무료구분, 유무료구분명, \\n야간무료개방여부, 야간무료개방여부명, 평일 운영 시작시간, 평일 운영 종료시각, 주말 운영 시작시간, 주말 운영종료시각, 공휴일 운영 시작시간, 주말 운영 종료시각, \\n최종 데이터 동기화 시간, 토요일 유무료 구분, 토요일 유무료구분명, 공휴일 유무료 구분, 공휴일 유무료 구분명, 월 정기권 금액, 노상 주차장 관리그룹번호,\\n기본 주차 요금, 기본 주차 시간(분 단위), 추가 단위 요금, 추가 단위 시간(분 단위), 버스 기본 주차 요금, 버스 기본 주차 시간(분 단위), \\n버스 추가 단위 요금, 버스 추가 단위 시간(분 단위), 일 최대 요금, 주차장 위치 좌표 위도, 주차장 위치 좌표 경도, 배정코드, 배정코드명\\n\\n# 전화본호 non-null 5132개 -> null 값의 경우. 정보 없음으로 뜨게 해야함\\n# 월 정기권 금액 non-nul 13832Ro -> 월 정기권 금액 정보 사용하지 않음\\n# 버스 ..? -> 빼기!\\n'"
      ]
     },
     "execution_count": 50,
     "metadata": {},
     "output_type": "execute_result"
    }
   ],
   "source": [
    "# 데이터 정보 확인\n",
    "data.info()\n",
    "\n",
    "'''\n",
    "총 14698개의 주차장\n",
    "변수(총 37개) : 주차장코드 , 주차장명, 주소, 주차장 종류, 주차장 종류명, 운영구분, 운영구분명, 전화번호, 총 주차면, 유무료구분, 유무료구분명, \n",
    "야간무료개방여부, 야간무료개방여부명, 평일 운영 시작시간, 평일 운영 종료시각, 주말 운영 시작시간, 주말 운영종료시각, 공휴일 운영 시작시간, 주말 운영 종료시각, \n",
    "최종 데이터 동기화 시간, 토요일 유무료 구분, 토요일 유무료구분명, 공휴일 유무료 구분, 공휴일 유무료 구분명, 월 정기권 금액, 노상 주차장 관리그룹번호,\n",
    "기본 주차 요금, 기본 주차 시간(분 단위), 추가 단위 요금, 추가 단위 시간(분 단위), 버스 기본 주차 요금, 버스 기본 주차 시간(분 단위), \n",
    "버스 추가 단위 요금, 버스 추가 단위 시간(분 단위), 일 최대 요금, 주차장 위치 좌표 위도, 주차장 위치 좌표 경도\n",
    "\n",
    "# 전화본호 non-null 5132개 -> null 값의 경우. 정보 없음으로 뜨게 해야함\n",
    "# 월 정기권 금액 non-nul 13832Ro -> 월 정기권 금액 정보 사용하지 않음\n",
    "# 버스 ..? -> 빼기!\n",
    "'''"
   ]
  },
  {
   "cell_type": "code",
   "execution_count": 51,
   "id": "8b94e9da",
   "metadata": {},
   "outputs": [
    {
     "data": {
      "text/html": [
       "<div>\n",
       "<style scoped>\n",
       "    .dataframe tbody tr th:only-of-type {\n",
       "        vertical-align: middle;\n",
       "    }\n",
       "\n",
       "    .dataframe tbody tr th {\n",
       "        vertical-align: top;\n",
       "    }\n",
       "\n",
       "    .dataframe thead th {\n",
       "        text-align: right;\n",
       "    }\n",
       "</style>\n",
       "<table border=\"1\" class=\"dataframe\">\n",
       "  <thead>\n",
       "    <tr style=\"text-align: right;\">\n",
       "      <th></th>\n",
       "      <th>주차장코드</th>\n",
       "      <th>주차장명</th>\n",
       "      <th>주소</th>\n",
       "      <th>주차장 종류</th>\n",
       "      <th>주차장 종류명</th>\n",
       "      <th>운영구분</th>\n",
       "      <th>운영구분명</th>\n",
       "      <th>전화번호</th>\n",
       "      <th>총 주자면</th>\n",
       "      <th>유무료구분</th>\n",
       "      <th>...</th>\n",
       "      <th>기본 주차 시간(분 단위)</th>\n",
       "      <th>추가 단위 요금</th>\n",
       "      <th>추가 단위 시간(분 단위)</th>\n",
       "      <th>버스 기본 주차 요금</th>\n",
       "      <th>버스 기본 주차 시간(분 단위)</th>\n",
       "      <th>버스 추가 단위 시간(분 단위)</th>\n",
       "      <th>버스 추가 단위 요금</th>\n",
       "      <th>일 최대 요금</th>\n",
       "      <th>주차장 위치 좌표 위도</th>\n",
       "      <th>주차장 위치 좌표 경도</th>\n",
       "    </tr>\n",
       "  </thead>\n",
       "  <tbody>\n",
       "    <tr>\n",
       "      <th>0</th>\n",
       "      <td>1012254</td>\n",
       "      <td>마들스타디움(근린공원)(구)</td>\n",
       "      <td>노원구 상계동 770-2</td>\n",
       "      <td>NW</td>\n",
       "      <td>노외 주차장</td>\n",
       "      <td>1</td>\n",
       "      <td>시간제 주차장</td>\n",
       "      <td>02-2289-6735</td>\n",
       "      <td>177</td>\n",
       "      <td>Y</td>\n",
       "      <td>...</td>\n",
       "      <td>5.0</td>\n",
       "      <td>150.0</td>\n",
       "      <td>5.0</td>\n",
       "      <td>0.0</td>\n",
       "      <td>0.0</td>\n",
       "      <td>0.0</td>\n",
       "      <td>0.0</td>\n",
       "      <td>11000.0</td>\n",
       "      <td>37.643917</td>\n",
       "      <td>127.058567</td>\n",
       "    </tr>\n",
       "    <tr>\n",
       "      <th>1</th>\n",
       "      <td>1013181</td>\n",
       "      <td>마장동공영주차장(구)</td>\n",
       "      <td>성동구 마장동 463-2</td>\n",
       "      <td>NW</td>\n",
       "      <td>노외 주차장</td>\n",
       "      <td>1</td>\n",
       "      <td>시간제 주차장</td>\n",
       "      <td>NaN</td>\n",
       "      <td>53</td>\n",
       "      <td>N</td>\n",
       "      <td>...</td>\n",
       "      <td>NaN</td>\n",
       "      <td>NaN</td>\n",
       "      <td>NaN</td>\n",
       "      <td>0.0</td>\n",
       "      <td>0.0</td>\n",
       "      <td>0.0</td>\n",
       "      <td>0.0</td>\n",
       "      <td>NaN</td>\n",
       "      <td>37.569939</td>\n",
       "      <td>127.035145</td>\n",
       "    </tr>\n",
       "    <tr>\n",
       "      <th>2</th>\n",
       "      <td>1025696</td>\n",
       "      <td>당산근린공원 공영(구)</td>\n",
       "      <td>영등포구 당산동3가 385-0</td>\n",
       "      <td>NW</td>\n",
       "      <td>노외 주차장</td>\n",
       "      <td>1</td>\n",
       "      <td>시간제 주차장</td>\n",
       "      <td>02-2677-1401</td>\n",
       "      <td>190</td>\n",
       "      <td>Y</td>\n",
       "      <td>...</td>\n",
       "      <td>5.0</td>\n",
       "      <td>150.0</td>\n",
       "      <td>5.0</td>\n",
       "      <td>0.0</td>\n",
       "      <td>0.0</td>\n",
       "      <td>0.0</td>\n",
       "      <td>0.0</td>\n",
       "      <td>0.0</td>\n",
       "      <td>37.525526</td>\n",
       "      <td>126.895794</td>\n",
       "    </tr>\n",
       "    <tr>\n",
       "      <th>3</th>\n",
       "      <td>1025697</td>\n",
       "      <td>대림운동장(구)</td>\n",
       "      <td>영등포구 대림동 780-0</td>\n",
       "      <td>NW</td>\n",
       "      <td>노외 주차장</td>\n",
       "      <td>1</td>\n",
       "      <td>시간제 주차장</td>\n",
       "      <td>02-2677-1401</td>\n",
       "      <td>192</td>\n",
       "      <td>Y</td>\n",
       "      <td>...</td>\n",
       "      <td>5.0</td>\n",
       "      <td>50.0</td>\n",
       "      <td>5.0</td>\n",
       "      <td>0.0</td>\n",
       "      <td>0.0</td>\n",
       "      <td>0.0</td>\n",
       "      <td>0.0</td>\n",
       "      <td>NaN</td>\n",
       "      <td>37.499657</td>\n",
       "      <td>126.894838</td>\n",
       "    </tr>\n",
       "    <tr>\n",
       "      <th>4</th>\n",
       "      <td>1028245</td>\n",
       "      <td>방학동 도깨비시장 공영주차장(구)</td>\n",
       "      <td>도봉구 방학동 632-1</td>\n",
       "      <td>NW</td>\n",
       "      <td>노외 주차장</td>\n",
       "      <td>3</td>\n",
       "      <td>시간제 + 거주자 주차장</td>\n",
       "      <td>02-901-5100</td>\n",
       "      <td>80</td>\n",
       "      <td>Y</td>\n",
       "      <td>...</td>\n",
       "      <td>5.0</td>\n",
       "      <td>100.0</td>\n",
       "      <td>5.0</td>\n",
       "      <td>0.0</td>\n",
       "      <td>0.0</td>\n",
       "      <td>0.0</td>\n",
       "      <td>0.0</td>\n",
       "      <td>0.0</td>\n",
       "      <td>37.664581</td>\n",
       "      <td>127.033906</td>\n",
       "    </tr>\n",
       "  </tbody>\n",
       "</table>\n",
       "<p>5 rows × 37 columns</p>\n",
       "</div>"
      ],
      "text/plain": [
       "     주차장코드                주차장명                주소 주차장 종류 주차장 종류명  운영구분  \\\n",
       "0  1012254     마들스타디움(근린공원)(구)     노원구 상계동 770-2     NW  노외 주차장     1   \n",
       "1  1013181         마장동공영주차장(구)     성동구 마장동 463-2     NW  노외 주차장     1   \n",
       "2  1025696        당산근린공원 공영(구)  영등포구 당산동3가 385-0     NW  노외 주차장     1   \n",
       "3  1025697            대림운동장(구)    영등포구 대림동 780-0     NW  노외 주차장     1   \n",
       "4  1028245  방학동 도깨비시장 공영주차장(구)     도봉구 방학동 632-1     NW  노외 주차장     3   \n",
       "\n",
       "           운영구분명          전화번호  총 주자면 유무료구분  ... 기본 주차 시간(분 단위) 추가 단위 요금  \\\n",
       "0        시간제 주차장  02-2289-6735    177     Y  ...            5.0    150.0   \n",
       "1        시간제 주차장           NaN     53     N  ...            NaN      NaN   \n",
       "2        시간제 주차장  02-2677-1401    190     Y  ...            5.0    150.0   \n",
       "3        시간제 주차장  02-2677-1401    192     Y  ...            5.0     50.0   \n",
       "4  시간제 + 거주자 주차장   02-901-5100     80     Y  ...            5.0    100.0   \n",
       "\n",
       "  추가 단위 시간(분 단위)  버스 기본 주차 요금  버스 기본 주차 시간(분 단위)  버스 추가 단위 시간(분 단위)  \\\n",
       "0            5.0          0.0                0.0                0.0   \n",
       "1            NaN          0.0                0.0                0.0   \n",
       "2            5.0          0.0                0.0                0.0   \n",
       "3            5.0          0.0                0.0                0.0   \n",
       "4            5.0          0.0                0.0                0.0   \n",
       "\n",
       "   버스 추가 단위 요금  일 최대 요금  주차장 위치 좌표 위도 주차장 위치 좌표 경도  \n",
       "0          0.0  11000.0     37.643917   127.058567  \n",
       "1          0.0      NaN     37.569939   127.035145  \n",
       "2          0.0      0.0     37.525526   126.895794  \n",
       "3          0.0      NaN     37.499657   126.894838  \n",
       "4          0.0      0.0     37.664581   127.033906  \n",
       "\n",
       "[5 rows x 37 columns]"
      ]
     },
     "execution_count": 51,
     "metadata": {},
     "output_type": "execute_result"
    }
   ],
   "source": [
    "# 데이터 케이스 확인\n",
    "data.head()"
   ]
  },
  {
   "cell_type": "code",
   "execution_count": 52,
   "id": "a54bc55a",
   "metadata": {},
   "outputs": [
    {
     "data": {
      "text/plain": [
       "1557268    194\n",
       "1535968    175\n",
       "1572855    164\n",
       "1557908    117\n",
       "1535957    109\n",
       "          ... \n",
       "173553       1\n",
       "1594835      1\n",
       "173521       1\n",
       "1576344      1\n",
       "1372154      1\n",
       "Name: 주차장코드, Length: 614, dtype: int64"
      ]
     },
     "execution_count": 52,
     "metadata": {},
     "output_type": "execute_result"
    }
   ],
   "source": [
    "# 주차장코드 속성 확인\n",
    "data['주차장코드'].value_counts()"
   ]
  },
  {
   "cell_type": "code",
   "execution_count": 53,
   "id": "75cf6fad",
   "metadata": {},
   "outputs": [
    {
     "data": {
      "text/plain": [
       "묵중안공영주차장(구)           194\n",
       "마장축산물시장 남문(구)         175\n",
       "KT성수분국 앞(구)           164\n",
       "나들목공영주차장(구)           117\n",
       "마장동거주자우선주차장(구)        109\n",
       "                     ... \n",
       "반포동 방음언덕형 공영주차장(구)      1\n",
       "도봉권역공영차고지(시)            1\n",
       "도봉2동 법조타운 공영주차장(구)      1\n",
       "반포4동 주민센터 공영주차장(구)      1\n",
       "구본청 부설주차장(구)            1\n",
       "Name: 주차장명, Length: 593, dtype: int64"
      ]
     },
     "execution_count": 53,
     "metadata": {},
     "output_type": "execute_result"
    }
   ],
   "source": [
    "# 주차장명 속성 확인\n",
    "data['주차장명'].value_counts()"
   ]
  },
  {
   "cell_type": "code",
   "execution_count": 54,
   "id": "475cc76d",
   "metadata": {},
   "outputs": [
    {
     "data": {
      "text/plain": [
       "중랑구 중화동 250-39      194\n",
       "성동구 마장동 805-0       175\n",
       "성동구 성수동2가 277-43    164\n",
       "중랑구 중화동 304-36      117\n",
       "성동구 마장동 812-0       109\n",
       "                   ... \n",
       "금천구 시흥동 704-56        1\n",
       "관악구 신림동 498-0         1\n",
       "관악구 봉천동 682-0         1\n",
       "강서구 화곡동 342-16        1\n",
       "성동구 성수동1가 366-1       1\n",
       "Name: 주소, Length: 598, dtype: int64"
      ]
     },
     "execution_count": 54,
     "metadata": {},
     "output_type": "execute_result"
    }
   ],
   "source": [
    "# 주소 속성 확인\n",
    "data['주소'].value_counts()"
   ]
  },
  {
   "cell_type": "code",
   "execution_count": 55,
   "id": "60fc7388",
   "metadata": {},
   "outputs": [
    {
     "data": {
      "text/plain": [
       "NS    7674\n",
       "NW     326\n",
       "Name: 주차장 종류, dtype: int64"
      ]
     },
     "execution_count": 55,
     "metadata": {},
     "output_type": "execute_result"
    }
   ],
   "source": [
    "# 주차장 종류 속성 확인\n",
    "data['주차장 종류'].value_counts()"
   ]
  },
  {
   "cell_type": "code",
   "execution_count": 56,
   "id": "b2711489",
   "metadata": {},
   "outputs": [
    {
     "data": {
      "text/plain": [
       "노상 주차장    7674\n",
       "노외 주차장     326\n",
       "Name: 주차장 종류명, dtype: int64"
      ]
     },
     "execution_count": 56,
     "metadata": {},
     "output_type": "execute_result"
    }
   ],
   "source": [
    "# 주차장 종류명 속성 확인\n",
    "data['주차장 종류명'].value_counts()"
   ]
  },
  {
   "cell_type": "code",
   "execution_count": 57,
   "id": "39962eec",
   "metadata": {},
   "outputs": [
    {
     "data": {
      "text/plain": [
       "1    5783\n",
       "3    1440\n",
       "2     407\n",
       "6     200\n",
       "4     153\n",
       "5      17\n",
       "Name: 운영구분, dtype: int64"
      ]
     },
     "execution_count": 57,
     "metadata": {},
     "output_type": "execute_result"
    }
   ],
   "source": [
    "# 운영구분 속성 확인\n",
    "data['운영구분'].value_counts()"
   ]
  },
  {
   "cell_type": "code",
   "execution_count": 58,
   "id": "a46cdc39",
   "metadata": {},
   "outputs": [
    {
     "data": {
      "text/plain": [
       "시간제 주차장           5783\n",
       "시간제 + 거주자 주차장     1440\n",
       "거주자 우선 주차장         407\n",
       "이륜차 전용 주차장         200\n",
       "버스전용 주차장           153\n",
       "시간제 + 버스전용 주차장      17\n",
       "Name: 운영구분명, dtype: int64"
      ]
     },
     "execution_count": 58,
     "metadata": {},
     "output_type": "execute_result"
    }
   ],
   "source": [
    "# 운영구분명 속성 확인\n",
    "data['운영구분명'].value_counts()"
   ]
  },
  {
   "cell_type": "code",
   "execution_count": 59,
   "id": "72f7b774",
   "metadata": {},
   "outputs": [
    {
     "data": {
      "text/plain": [
       "Y    7630\n",
       "N     370\n",
       "Name: 유무료구분, dtype: int64"
      ]
     },
     "execution_count": 59,
     "metadata": {},
     "output_type": "execute_result"
    }
   ],
   "source": [
    "# 유무료구분 속성 확인\n",
    "data['유무료구분'].value_counts()"
   ]
  },
  {
   "cell_type": "code",
   "execution_count": 60,
   "id": "1cae98c4",
   "metadata": {},
   "outputs": [
    {
     "data": {
      "text/plain": [
       "유료    7630\n",
       "무료     370\n",
       "Name: 유무료구분명, dtype: int64"
      ]
     },
     "execution_count": 60,
     "metadata": {},
     "output_type": "execute_result"
    }
   ],
   "source": [
    "# 유무료구분명 속성 확인\n",
    "data['유무료구분명'].value_counts()"
   ]
  },
  {
   "cell_type": "code",
   "execution_count": 61,
   "id": "23d64807",
   "metadata": {},
   "outputs": [
    {
     "data": {
      "text/plain": [
       "N    8000\n",
       "Name: 야간무료개방여부, dtype: int64"
      ]
     },
     "execution_count": 61,
     "metadata": {},
     "output_type": "execute_result"
    }
   ],
   "source": [
    "# 야간무료개방여부 속성 확인\n",
    "data['야간무료개방여부'].value_counts()\n"
   ]
  },
  {
   "cell_type": "code",
   "execution_count": 62,
   "id": "3892d928",
   "metadata": {},
   "outputs": [
    {
     "data": {
      "text/plain": [
       "야간 미개방    8000\n",
       "Name: 야간무료개방여부명, dtype: int64"
      ]
     },
     "execution_count": 62,
     "metadata": {},
     "output_type": "execute_result"
    }
   ],
   "source": [
    "# 야간무료개방여부명 속성 확인\n",
    "data['야간무료개방여부명'].value_counts()"
   ]
  },
  {
   "cell_type": "code",
   "execution_count": 63,
   "id": "4fcda457",
   "metadata": {},
   "outputs": [
    {
     "data": {
      "text/plain": [
       "900     5148\n",
       "0       1436\n",
       "1000     543\n",
       "830      329\n",
       "800      273\n",
       "1100     102\n",
       "1200      86\n",
       "1300      50\n",
       "700       16\n",
       "1130      12\n",
       "600        3\n",
       "1030       1\n",
       "919        1\n",
       "Name: 평일 운영 시작시각(HHMM), dtype: int64"
      ]
     },
     "execution_count": 63,
     "metadata": {},
     "output_type": "execute_result"
    }
   ],
   "source": [
    "# 평일 운영 시작시간(HHMM) 속성 확인\n",
    "data['평일 운영 시작시각(HHMM)'].value_counts()"
   ]
  },
  {
   "cell_type": "code",
   "execution_count": 64,
   "id": "47e54246",
   "metadata": {},
   "outputs": [
    {
     "data": {
      "text/plain": [
       "1900    4080\n",
       "0       1085\n",
       "1800     918\n",
       "2100     472\n",
       "2000     445\n",
       "2200     343\n",
       "2400     315\n",
       "2300     290\n",
       "2359      38\n",
       "2130      12\n",
       "1700       1\n",
       "1730       1\n",
       "Name: 평일 운영 종료시각(HHMM), dtype: int64"
      ]
     },
     "execution_count": 64,
     "metadata": {},
     "output_type": "execute_result"
    }
   ],
   "source": [
    "# 평일 운영 종료시각(HHMM) 속성 확인\n",
    "data['평일 운영 종료시각(HHMM)'].value_counts()"
   ]
  },
  {
   "cell_type": "code",
   "execution_count": 65,
   "id": "5253c7ea",
   "metadata": {},
   "outputs": [
    {
     "data": {
      "text/plain": [
       "900     4670\n",
       "0       2489\n",
       "1000     526\n",
       "800       98\n",
       "1200      86\n",
       "1100      56\n",
       "1300      50\n",
       "1130      12\n",
       "830        8\n",
       "600        3\n",
       "1030       1\n",
       "919        1\n",
       "Name: 주말 운영 시작시각(HHMM), dtype: int64"
      ]
     },
     "execution_count": 65,
     "metadata": {},
     "output_type": "execute_result"
    }
   ],
   "source": [
    "# 주말 운영 시작시각(HHMM) 속성 확인\n",
    "data['주말 운영 시작시각(HHMM)'].value_counts()"
   ]
  },
  {
   "cell_type": "code",
   "execution_count": 66,
   "id": "6e7d62be",
   "metadata": {},
   "outputs": [
    {
     "data": {
      "text/plain": [
       "1500    3348\n",
       "0       2150\n",
       "2100     368\n",
       "1800     362\n",
       "1600     346\n",
       "2200     320\n",
       "2400     302\n",
       "2300     288\n",
       "1300     178\n",
       "1900     155\n",
       "2000     106\n",
       "2359      38\n",
       "1700      18\n",
       "1730      12\n",
       "1400       8\n",
       "1200       1\n",
       "Name: 주말 운영 종료시각(HHMM), dtype: int64"
      ]
     },
     "execution_count": 66,
     "metadata": {},
     "output_type": "execute_result"
    }
   ],
   "source": [
    "# 주말 운영 종료시각(HHMM) 속성 확인\n",
    "data['주말 운영 종료시각(HHMM)'].value_counts()"
   ]
  },
  {
   "cell_type": "code",
   "execution_count": 67,
   "id": "0476342b",
   "metadata": {},
   "outputs": [
    {
     "data": {
      "text/plain": [
       "0       6887\n",
       "900      581\n",
       "1000     266\n",
       "1200      86\n",
       "800       83\n",
       "1300      50\n",
       "1100      35\n",
       "830        8\n",
       "600        3\n",
       "919        1\n",
       "Name: 공휴일 운영 시작시각(HHMM), dtype: int64"
      ]
     },
     "execution_count": 67,
     "metadata": {},
     "output_type": "execute_result"
    }
   ],
   "source": [
    "# 공휴일 운영 시작시각(HHMM) 속성 확인\n",
    "data['공휴일 운영 시작시각(HHMM)'].value_counts()"
   ]
  },
  {
   "cell_type": "code",
   "execution_count": 68,
   "id": "151d3a3f",
   "metadata": {},
   "outputs": [
    {
     "data": {
      "text/plain": [
       "0       6503\n",
       "2400     346\n",
       "1800     276\n",
       "2100     259\n",
       "2200     237\n",
       "1900     175\n",
       "2300      87\n",
       "2000      50\n",
       "2359      38\n",
       "1500      27\n",
       "100        1\n",
       "1200       1\n",
       "Name: 공휴일 운영 종료시각(HHMM), dtype: int64"
      ]
     },
     "execution_count": 68,
     "metadata": {},
     "output_type": "execute_result"
    }
   ],
   "source": [
    "# 공휴일 운영 종료시각(HHMM) 속성 확인\n",
    "data['공휴일 운영 종료시각(HHMM)'].value_counts()"
   ]
  },
  {
   "cell_type": "code",
   "execution_count": 69,
   "id": "429bd2b4",
   "metadata": {},
   "outputs": [
    {
     "data": {
      "text/plain": [
       "2019-06-10 11:18:58    194\n",
       "2019-06-10 11:14:09    175\n",
       "2021-08-20 11:29:06    164\n",
       "2019-06-10 11:20:04    117\n",
       "2019-06-10 11:14:05    109\n",
       "                      ... \n",
       "2019-09-09 07:48:23      1\n",
       "2019-06-10 09:39:25      1\n",
       "2020-08-27 16:43:17      1\n",
       "2019-06-10 09:36:52      1\n",
       "2021-02-06 15:11:48      1\n",
       "Name: 최종데이터 동기화 시간, Length: 598, dtype: int64"
      ]
     },
     "execution_count": 69,
     "metadata": {},
     "output_type": "execute_result"
    }
   ],
   "source": [
    "# 최종데이터 동기화 시간 속성 확인\n",
    "data['최종데이터 동기화 시간'].value_counts()"
   ]
  },
  {
   "cell_type": "code",
   "execution_count": 70,
   "id": "ee34c0e7",
   "metadata": {},
   "outputs": [
    {
     "data": {
      "text/plain": [
       "N    6610\n",
       "Y    1390\n",
       "Name: 토요일 유,무료 구분, dtype: int64"
      ]
     },
     "execution_count": 70,
     "metadata": {},
     "output_type": "execute_result"
    }
   ],
   "source": [
    "# 토요일 유,무료 구분 속성 확인\n",
    "data['토요일 유,무료 구분'].value_counts()"
   ]
  },
  {
   "cell_type": "code",
   "execution_count": 71,
   "id": "af94bf74",
   "metadata": {},
   "outputs": [
    {
     "data": {
      "text/plain": [
       "무료    6610\n",
       "유료    1390\n",
       "Name: 토요일 유,무료 구분명, dtype: int64"
      ]
     },
     "execution_count": 71,
     "metadata": {},
     "output_type": "execute_result"
    }
   ],
   "source": [
    "# 토요일 유,무료 구분명 속성 확인\n",
    "data['토요일 유,무료 구분명'].value_counts()"
   ]
  },
  {
   "cell_type": "code",
   "execution_count": 72,
   "id": "099ac784",
   "metadata": {},
   "outputs": [
    {
     "data": {
      "text/plain": [
       "Y    4831\n",
       "N    3169\n",
       "Name: 공휴일 유,무료 구분, dtype: int64"
      ]
     },
     "execution_count": 72,
     "metadata": {},
     "output_type": "execute_result"
    }
   ],
   "source": [
    "# 공휴일 유,무료 구분 속성 확인\n",
    "data['공휴일 유,무료 구분'].value_counts()"
   ]
  },
  {
   "cell_type": "code",
   "execution_count": 73,
   "id": "8866d4c0",
   "metadata": {},
   "outputs": [
    {
     "data": {
      "text/plain": [
       "유료    4831\n",
       "무료    3169\n",
       "Name: 공휴일 유,무료 구분명, dtype: int64"
      ]
     },
     "execution_count": 73,
     "metadata": {},
     "output_type": "execute_result"
    }
   ],
   "source": [
    "# 공휴일 유,무료 구분명 속성 확인\n",
    "data['공휴일 유,무료 구분명'].value_counts()"
   ]
  },
  {
   "cell_type": "code",
   "execution_count": 74,
   "id": "a9af3797",
   "metadata": {},
   "outputs": [
    {
     "data": {
      "text/plain": [
       "0.0         3169\n",
       "100000.0     997\n",
       "80000.0      768\n",
       "120000.0     487\n",
       "200000.0     368\n",
       "250000.0     332\n",
       "130000.0     279\n",
       "70000.0      258\n",
       "150000.0     236\n",
       "50000.0      210\n",
       "90000.0       96\n",
       "160000.0      67\n",
       "65000.0       53\n",
       "180000.0      42\n",
       "60000.0       27\n",
       "140000.0      21\n",
       "40000.0       17\n",
       "91000.0       10\n",
       "280000.0       6\n",
       "350000.0       5\n",
       "75000.0        4\n",
       "112000.0       3\n",
       "240000.0       3\n",
       "170000.0       3\n",
       "85000.0        2\n",
       "162000.0       2\n",
       "168000.0       2\n",
       "105000.0       2\n",
       "182000.0       1\n",
       "175000.0       1\n",
       "42000.0        1\n",
       "86000.0        1\n",
       "252000.0       1\n",
       "225000.0       1\n",
       "66000.0        1\n",
       "30000.0        1\n",
       "98000.0        1\n",
       "126000.0       1\n",
       "96000.0        1\n",
       "110000.0       1\n",
       "Name: 월 정기권 금액, dtype: int64"
      ]
     },
     "execution_count": 74,
     "metadata": {},
     "output_type": "execute_result"
    }
   ],
   "source": [
    "# 월 정기권 금액 속성 확인\n",
    "data['월 정기권 금액'].value_counts()"
   ]
  },
  {
   "cell_type": "code",
   "execution_count": 75,
   "id": "9c44454d",
   "metadata": {},
   "outputs": [
    {
     "data": {
      "text/plain": [
       "1.126010e+12    194\n",
       "1.120011e+12    175\n",
       "1.120012e+12    164\n",
       "1.120011e+12    121\n",
       "1.126010e+12    117\n",
       "               ... \n",
       "1.159011e+12      1\n",
       "1.174010e+12      1\n",
       "1.159010e+12      1\n",
       "1.159011e+12      1\n",
       "1.117011e+12      1\n",
       "Name: 노상 주차장 관리그룹번호, Length: 283, dtype: int64"
      ]
     },
     "execution_count": 75,
     "metadata": {},
     "output_type": "execute_result"
    }
   ],
   "source": [
    "#노상 주차장 관리그룹번호 속성 확인\n",
    "data['노상 주차장 관리그룹번호'].value_counts()"
   ]
  },
  {
   "cell_type": "code",
   "execution_count": 76,
   "id": "0f84a641",
   "metadata": {},
   "outputs": [
    {
     "data": {
      "text/plain": [
       "250.0     2482\n",
       "150.0     1178\n",
       "500.0     1039\n",
       "0.0        759\n",
       "200.0      591\n",
       "300.0      415\n",
       "400.0      375\n",
       "100.0      332\n",
       "260.0      156\n",
       "1200.0     127\n",
       "120.0       81\n",
       "130.0       75\n",
       "600.0       67\n",
       "680.0       55\n",
       "750.0       47\n",
       "330.0       35\n",
       "430.0       34\n",
       "50.0        34\n",
       "170.0       29\n",
       "1000.0      17\n",
       "350.0       16\n",
       "620.0       14\n",
       "65.0        12\n",
       "220.0        2\n",
       "700.0        2\n",
       "320.0        2\n",
       "800.0        1\n",
       "900.0        1\n",
       "80.0         1\n",
       "360.0        1\n",
       "75.0         1\n",
       "Name: 기본 주차 요금, dtype: int64"
      ]
     },
     "execution_count": 76,
     "metadata": {},
     "output_type": "execute_result"
    }
   ],
   "source": [
    "# 기본 주차 요금 속성 확인\n",
    "data['기본 주차 요금'].value_counts()"
   ]
  },
  {
   "cell_type": "code",
   "execution_count": 77,
   "id": "5ed4b5bf",
   "metadata": {},
   "outputs": [
    {
     "data": {
      "text/plain": [
       "5.0     6510\n",
       "0.0      758\n",
       "10.0     558\n",
       "60.0     142\n",
       "30.0      13\n",
       "Name: 기본 주차 시간(분 단위), dtype: int64"
      ]
     },
     "execution_count": 77,
     "metadata": {},
     "output_type": "execute_result"
    }
   ],
   "source": [
    "# 기본 주차 시간(분 단위) 속성 확인\n",
    "data['기본 주차 시간(분 단위)'].value_counts()"
   ]
  },
  {
   "cell_type": "code",
   "execution_count": 78,
   "id": "6f5b7717",
   "metadata": {},
   "outputs": [
    {
     "data": {
      "text/plain": [
       "0.0       1914\n",
       "250.0     1649\n",
       "500.0      982\n",
       "200.0      551\n",
       "300.0      487\n",
       "1000.0     362\n",
       "400.0      346\n",
       "150.0      275\n",
       "600.0      275\n",
       "800.0      168\n",
       "260.0      156\n",
       "100.0      123\n",
       "120.0       80\n",
       "130.0       75\n",
       "680.0       55\n",
       "750.0       47\n",
       "330.0       35\n",
       "430.0       34\n",
       "50.0        34\n",
       "170.0       29\n",
       "350.0       16\n",
       "620.0       14\n",
       "1200.0      12\n",
       "65.0        11\n",
       "220.0        2\n",
       "700.0        2\n",
       "320.0        2\n",
       "360.0        1\n",
       "80.0         1\n",
       "Name: 추가 단위 요금, dtype: int64"
      ]
     },
     "execution_count": 78,
     "metadata": {},
     "output_type": "execute_result"
    }
   ],
   "source": [
    "# 추가 단위 요금 속성 확인\n",
    "data['추가 단위 요금'].value_counts()"
   ]
  },
  {
   "cell_type": "code",
   "execution_count": 79,
   "id": "28fa5077",
   "metadata": {},
   "outputs": [
    {
     "data": {
      "text/plain": [
       "5.0     4091\n",
       "0.0     1914\n",
       "10.0    1645\n",
       "30.0      76\n",
       "60.0      12\n",
       "Name: 추가 단위 시간(분 단위), dtype: int64"
      ]
     },
     "execution_count": 79,
     "metadata": {},
     "output_type": "execute_result"
    }
   ],
   "source": [
    "# 추가 단위 시간(분 단위) 속성 확인\n",
    "data['추가 단위 시간(분 단위)'].value_counts()"
   ]
  },
  {
   "cell_type": "code",
   "execution_count": 80,
   "id": "37f6a29d",
   "metadata": {},
   "outputs": [
    {
     "data": {
      "text/plain": [
       "0.0         4034\n",
       "10000.0     1172\n",
       "36000.0      582\n",
       "15000.0      579\n",
       "24000.0      215\n",
       "9000.0       186\n",
       "30000.0       99\n",
       "16000.0       99\n",
       "5000.0        82\n",
       "16500.0       76\n",
       "19800.0       71\n",
       "6000.0        57\n",
       "35000.0       56\n",
       "20000.0       33\n",
       "33000.0       11\n",
       "11000.0        3\n",
       "8100.0         2\n",
       "2000.0         1\n",
       "7000.0         1\n",
       "3000.0         1\n",
       "100000.0       1\n",
       "50000.0        1\n",
       "Name: 일 최대 요금, dtype: int64"
      ]
     },
     "execution_count": 80,
     "metadata": {},
     "output_type": "execute_result"
    }
   ],
   "source": [
    "# 일 최대 요금 속성 확인\n",
    "data['일 최대 요금'].value_counts()"
   ]
  },
  {
   "cell_type": "code",
   "execution_count": 83,
   "id": "d6ded121",
   "metadata": {},
   "outputs": [
    {
     "data": {
      "text/plain": [
       "02-2650-1436    605\n",
       "02-2607-9113    192\n",
       "02-2698-1386    177\n",
       "02)2280-8367    166\n",
       "02)3396-6262    149\n",
       "               ... \n",
       "02-939-7708       1\n",
       "02-2664-1386      1\n",
       "02-2290-6566      1\n",
       "02-2155-7284      1\n",
       "02-534-2772       1\n",
       "Name: 전화번호, Length: 190, dtype: int64"
      ]
     },
     "execution_count": 83,
     "metadata": {},
     "output_type": "execute_result"
    }
   ],
   "source": [
    "# 전화번호 속성\n",
    "data['전화번호'].value_counts()"
   ]
  },
  {
   "cell_type": "code",
   "execution_count": 84,
   "id": "3b4e6b7d",
   "metadata": {},
   "outputs": [
    {
     "data": {
      "text/plain": [
       "1      7674\n",
       "26        7\n",
       "20        7\n",
       "56        6\n",
       "199       5\n",
       "       ... \n",
       "173       1\n",
       "157       1\n",
       "149       1\n",
       "145       1\n",
       "567       1\n",
       "Name: 총 주자면, Length: 168, dtype: int64"
      ]
     },
     "execution_count": 84,
     "metadata": {},
     "output_type": "execute_result"
    }
   ],
   "source": [
    "# 총 주자면 속성 - > 오타! 총 주차면으로 바꾸기\n",
    "data['총 주자면'].value_counts()"
   ]
  },
  {
   "cell_type": "code",
   "execution_count": null,
   "id": "eaccd76a",
   "metadata": {},
   "outputs": [],
   "source": []
  }
 ],
 "metadata": {
  "kernelspec": {
   "display_name": "Python 3",
   "language": "python",
   "name": "python3"
  },
  "language_info": {
   "codemirror_mode": {
    "name": "ipython",
    "version": 3
   },
   "file_extension": ".py",
   "mimetype": "text/x-python",
   "name": "python",
   "nbconvert_exporter": "python",
   "pygments_lexer": "ipython3",
   "version": "3.8.8"
  }
 },
 "nbformat": 4,
 "nbformat_minor": 5
}
